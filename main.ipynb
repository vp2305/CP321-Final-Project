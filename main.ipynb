{
 "cells": [
  {
   "cell_type": "code",
   "execution_count": null,
   "metadata": {},
   "outputs": [],
   "source": [
    "import pandas as pd\n",
    "import matplotlib.pyplot as plt"
   ]
  },
  {
   "attachments": {},
   "cell_type": "markdown",
   "metadata": {},
   "source": [
    "Fuel Consumption between fuel based cars and EV based cars"
   ]
  },
  {
   "cell_type": "code",
   "execution_count": 9,
   "metadata": {},
   "outputs": [
    {
     "name": "stderr",
     "output_type": "stream",
     "text": [
      "/var/folders/rf/4nlsqpt91c76z56vnm7rsmfw0000gn/T/ipykernel_10435/3194807267.py:2: DtypeWarning: Columns (0,1,2,3,4,6,7,8,9,10,11,12,13,14) have mixed types. Specify dtype option on import or set low_memory=False.\n",
      "  fuel_df = pd.read_csv(\"data/fuel.csv\")\n"
     ]
    }
   ],
   "source": [
    "# Load the data\n",
    "fuel_df = pd.read_csv(\"data/fuel.csv\")\n",
    "ev_df = pd.read_csv(\"data/ev.csv\")"
   ]
  },
  {
   "cell_type": "code",
   "execution_count": null,
   "metadata": {},
   "outputs": [],
   "source": [
    "# Data cleaning\n",
    "fuel_df.head()"
   ]
  },
  {
   "attachments": {},
   "cell_type": "markdown",
   "metadata": {},
   "source": [
    "Ever since the government released the rebait program the ev and hybrid adoption has increased."
   ]
  },
  {
   "cell_type": "code",
   "execution_count": null,
   "metadata": {},
   "outputs": [],
   "source": [
    "import pandas as pd\n",
    "import matplotlib.pyplot as plt\n",
    "\n",
    "df = pd.read_csv(\"https://www150.statcan.gc.ca/t1/tbl1/en/dtl!downloadDbLoadingData-nonTraduit.action?pid=2010002401&latestN=5&startDate=&endDate=&csvLocale=en&textFormat=CSV&separator=,&useMiliseconds=false\")\n",
    "\n",
    "df = df.loc[[\"Battery electric\", \"Hybrid electric\", \"Plug-in hybrid electric\", \"Gasoline\", \"Diesel\"], [\"Vehicle type\", \"2019\", \"2020\", \"2021\", \"2022\"]]\n",
    "\n",
    "df = df.set_index(\"Vehicle type\").T\n",
    "\n",
    "fig, ax = plt.subplots(figsize=(10, 8))\n",
    "\n",
    "df.plot(kind=\"bar\", stacked=True, ax=ax)\n",
    "\n",
    "\n",
    "ax.set_xlabel(\"Year\")\n",
    "ax.set_ylabel(\"Number of new vehicle registrations\")\n",
    "ax.set_title(\"Share of electric and conventional vehicles in new vehicle registrations\")\n",
    "\n",
    "\n",
    "plt.show()\n"
   ]
  },
  {
   "cell_type": "code",
   "execution_count": null,
   "metadata": {},
   "outputs": [],
   "source": []
  }
 ],
 "metadata": {
  "kernelspec": {
   "display_name": "Python 3 (ipykernel)",
   "language": "python",
   "name": "python3"
  },
  "language_info": {
   "codemirror_mode": {
    "name": "ipython",
    "version": 3
   },
   "file_extension": ".py",
   "mimetype": "text/x-python",
   "name": "python",
   "nbconvert_exporter": "python",
   "pygments_lexer": "ipython3",
   "version": "3.9.12"
  }
 },
 "nbformat": 4,
 "nbformat_minor": 2
}
